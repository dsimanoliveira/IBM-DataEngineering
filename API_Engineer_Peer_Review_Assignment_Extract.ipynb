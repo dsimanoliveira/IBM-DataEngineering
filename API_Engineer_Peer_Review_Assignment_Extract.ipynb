{
  "cells": [
    {
      "cell_type": "markdown",
      "metadata": {
        "id": "view-in-github",
        "colab_type": "text"
      },
      "source": [
        "<a href=\"https://colab.research.google.com/github/dsimanoliveira/IBM-DataEngineering/blob/main/API_Engineer_Peer_Review_Assignment_Extract.ipynb\" target=\"_parent\"><img src=\"https://colab.research.google.com/assets/colab-badge.svg\" alt=\"Open In Colab\"/></a>"
      ]
    },
    {
      "cell_type": "markdown",
      "metadata": {
        "id": "ba6230e7-2d57-4541-8679-903da4f42054"
      },
      "source": [
        "<p style=\"text-align:center\">\n",
        "    <a href=\"https://skills.network/?utm_medium=Exinfluencer&utm_source=Exinfluencer&utm_content=000026UJ&utm_term=10006555&utm_id=NA-SkillsNetwork-Channel-SkillsNetworkCoursesIBMDeveloperSkillsNetworkPY0221ENSkillsNetwork899-2023-01-01\">\n",
        "    <img src=\"https://cf-courses-data.s3.us.cloud-object-storage.appdomain.cloud/assets/logos/SN_web_lightmode.png\" width=\"200\" alt=\"Skills Network Logo\"  />\n",
        "    </a>\n",
        "</p>\n"
      ]
    },
    {
      "cell_type": "markdown",
      "metadata": {
        "id": "ee5643df-a084-4430-aeff-c968fa2b9822"
      },
      "source": [
        "# Peer Review Assignment - Data Engineer - Extract API Data\n"
      ]
    },
    {
      "cell_type": "markdown",
      "metadata": {
        "id": "3f09a6b2-d5a1-42ac-af46-3ac5a1c525b1"
      },
      "source": [
        "Estimated time needed: **20** minutes\n"
      ]
    },
    {
      "cell_type": "markdown",
      "metadata": {
        "id": "9bdba32e-f30e-41d8-be86-fdc1e86f258e"
      },
      "source": [
        "## Objectives\n",
        "\n",
        "In this part you will:\n",
        "\n",
        "-   Collect exchange rate data using an API\n",
        "-   Store the data as a CSV\n"
      ]
    },
    {
      "cell_type": "markdown",
      "metadata": {
        "id": "95cc012a-d646-4e17-9d33-88bf66de1132"
      },
      "source": [
        "## Imports\n",
        "\n",
        "Import any additional libraries you may need here.\n"
      ]
    },
    {
      "cell_type": "code",
      "source": [
        "import requests\n",
        "import pandas as pd"
      ],
      "metadata": {
        "id": "teChfSL8P3N9"
      },
      "execution_count": null,
      "outputs": []
    },
    {
      "cell_type": "markdown",
      "metadata": {
        "id": "c2a2dbee-ba18-4840-885d-d948691fa2d1"
      },
      "source": [
        "## Extract Data Using an API\n"
      ]
    },
    {
      "cell_type": "markdown",
      "metadata": {
        "id": "bc49f413-a552-4272-877c-d3431ae94579"
      },
      "source": [
        "Using ExchangeRate-API we will extract currency exchange rate data. Use the below steps to get the access key and to get the data.\n",
        "1. Open the url : https://exchangeratesapi.io/ and click on **Get Free API Key**.\n",
        "2. Subscribe for Free plan and Sign-in with the Google Account.\n",
        "3. Once the account is created you will be redirected to https://apilayer.com website.\n",
        "2. Now, click on the **user icon** and click **Account** as shown below:\n",
        "\n",
        "<img src=\"https://cf-courses-data.s3.us.cloud-object-storage.appdomain.cloud/IBMDeveloperSkillsNetwork-PY0221EN-SkillsNetwork/labs/module%206/Final%20Assignment/Images/account.png\">\n",
        "\n",
        "3. Scroll down and you will get the API Key section. Copy the API key and use in the url in Question 1.\n"
      ]
    },
    {
      "cell_type": "markdown",
      "metadata": {
        "id": "09215f05-ec94-4c17-8c6d-de28acd79a3c"
      },
      "source": [
        "### Call the API\n",
        "\n",
        " <b> Question 1</b> Using the `requests` library call the endpoint given above and save the text, remember the first few characters of the output:\n"
      ]
    },
    {
      "cell_type": "code",
      "source": [
        "url = \"http://api.exchangeratesapi.io/v1/latest?base=EUR&access_key=242f34179de7f691287bed05550db850\"\n",
        "response = requests.get(url)"
      ],
      "metadata": {
        "id": "9gux5vAbQzwT"
      },
      "execution_count": null,
      "outputs": []
    },
    {
      "cell_type": "code",
      "source": [
        "print(response.json())"
      ],
      "metadata": {
        "colab": {
          "base_uri": "https://localhost:8080/"
        },
        "id": "Yu1PxWk6aZAh",
        "outputId": "edf8522f-bef9-4773-ab1e-670f879d6078"
      },
      "execution_count": null,
      "outputs": [
        {
          "output_type": "stream",
          "name": "stdout",
          "text": [
            "{'success': True, 'timestamp': 1694136603, 'base': 'EUR', 'date': '2023-09-08', 'rates': {'AED': 3.933731, 'AFN': 86.140282, 'ALL': 107.501437, 'AMD': 412.021567, 'ANG': 1.928729, 'AOA': 887.290113, 'ARS': 374.834843, 'AUD': 1.679404, 'AWG': 1.930399, 'AZN': 1.824176, 'BAM': 1.954953, 'BBD': 2.160905, 'BDT': 117.449137, 'BGN': 1.955769, 'BHD': 0.403763, 'BIF': 3030.274505, 'BMD': 1.070956, 'BND': 1.460713, 'BOB': 7.394798, 'BRL': 5.330686, 'BSD': 1.070117, 'BTC': 4.0723924e-05, 'BTN': 89.022316, 'BWP': 14.710355, 'BYN': 2.70118, 'BYR': 20990.741584, 'BZD': 2.157307, 'CAD': 1.46555, 'CDF': 2688.099797, 'CHF': 0.954844, 'CLF': 0.034282, 'CLP': 945.95408, 'CNY': 7.84861, 'COP': 4314.646933, 'CRC': 573.335646, 'CUC': 1.070956, 'CUP': 28.380339, 'CVE': 110.217268, 'CZK': 24.366827, 'DJF': 190.543923, 'DKK': 7.459103, 'DOP': 60.781975, 'DZD': 146.898728, 'EGP': 33.091048, 'ERN': 16.064343, 'ETB': 59.147128, 'EUR': 1, 'FJD': 2.435729, 'FKP': 0.856786, 'GBP': 0.857772, 'GEL': 2.795028, 'GGP': 0.856786, 'GHS': 12.232702, 'GIP': 0.856786, 'GMD': 64.846127, 'GNF': 9185.678894, 'GTQ': 8.422353, 'GYD': 223.903035, 'HKD': 8.392602, 'HNL': 26.360846, 'HRK': 7.371178, 'HTG': 145.541535, 'HUF': 387.136207, 'IDR': 16428.468158, 'ILS': 4.116123, 'IMP': 0.856786, 'INR': 89.029123, 'IQD': 1401.493058, 'IRR': 45250.57745, 'ISK': 143.711539, 'JEP': 0.856786, 'JMD': 165.525225, 'JOD': 0.758557, 'JPY': 157.627604, 'KES': 156.520157, 'KGS': 94.653571, 'KHR': 4441.910447, 'KMF': 492.479517, 'KPW': 963.889178, 'KRW': 1429.31995, 'KWD': 0.330337, 'KYD': 0.891814, 'KZT': 498.014326, 'LAK': 21179.630018, 'LBP': 16084.633882, 'LKR': 345.687066, 'LRD': 199.358042, 'LSL': 20.551406, 'LTL': 3.162256, 'LVL': 0.647811, 'LYD': 5.188656, 'MAD': 10.886885, 'MDL': 19.182335, 'MGA': 4834.815907, 'MKD': 61.588328, 'MMK': 2247.38476, 'MNT': 3720.248747, 'MOP': 8.641458, 'MRO': 382.33118, 'MUR': 48.354026, 'MVR': 16.546263, 'MWK': 1177.068268, 'MXN': 18.823775, 'MYR': 5.013681, 'MZN': 67.737926, 'NAD': 20.551374, 'NGN': 841.234121, 'NIO': 39.161578, 'NOK': 11.444219, 'NPR': 142.431997, 'NZD': 1.820004, 'OMR': 0.4123, 'PAB': 1.070137, 'PEN': 3.965483, 'PGK': 3.917194, 'PHP': 60.762305, 'PKR': 328.006126, 'PLN': 4.624542, 'PYG': 7784.137728, 'QAR': 3.899312, 'RON': 4.965273, 'RSD': 117.284681, 'RUB': 105.482846, 'RWF': 1287.318463, 'SAR': 4.016904, 'SBD': 9.052942, 'SCR': 13.903082, 'SDG': 642.893751, 'SEK': 11.912412, 'SGD': 1.462235, 'SHP': 1.303086, 'SLE': 23.97293, 'SLL': 21151.385288, 'SOS': 609.897384, 'SSP': 643.644981, 'SRD': 40.974246, 'STD': 22166.631155, 'SYP': 13924.385976, 'SZL': 20.580703, 'THB': 38.10355, 'TJS': 11.755899, 'TMT': 3.748347, 'TND': 3.35798, 'TOP': 2.566279, 'TRY': 28.741676, 'TTD': 7.241864, 'TWD': 34.32018, 'TZS': 2681.952983, 'UAH': 39.522846, 'UGX': 4003.266314, 'USD': 1.070956, 'UYU': 40.55206, 'UZS': 12989.374719, 'VEF': 3522548.870412, 'VES': 35.416627, 'VND': 25761.851469, 'VUV': 130.132633, 'WST': 2.982584, 'XAF': 655.66081, 'XAG': 0.04643, 'XAU': 0.000556, 'XCD': 2.894312, 'XDR': 0.804637, 'XOF': 655.66081, 'XPF': 119.947086, 'YER': 268.194247, 'ZAR': 20.525197, 'ZMK': 9639.887964, 'ZMW': 22.207834, 'ZWL': 344.84746}}\n"
          ]
        }
      ]
    },
    {
      "cell_type": "markdown",
      "metadata": {
        "id": "306bb01e-0ab0-434f-bbb8-e83259dde60c"
      },
      "source": [
        "### Save as DataFrame\n",
        "\n",
        " <b> Question 2</b>  Using the data gathered turn it into a `pandas` dataframe. The dataframe should have the Currency as the index and `Rate` as their columns. Make sure to drop unnecessary columns.\n"
      ]
    },
    {
      "cell_type": "code",
      "source": [
        "# Turn the data into a dataframe\n",
        "json_object = response.json()\n",
        "rates_df = pd.DataFrame(json_object['rates'], index=[0])\n",
        "rates_df = rates_df.transpose()\n",
        "rates_df.rename(columns={0: 'Rate'}, inplace=True)"
      ],
      "metadata": {
        "id": "LWEM7_KiRTYz"
      },
      "execution_count": null,
      "outputs": []
    },
    {
      "cell_type": "code",
      "source": [
        "rates_df.head()"
      ],
      "metadata": {
        "colab": {
          "base_uri": "https://localhost:8080/",
          "height": 206
        },
        "id": "1V88fF4iU1TI",
        "outputId": "e7083428-f692-41f2-cde1-17c3801d64a8"
      },
      "execution_count": null,
      "outputs": [
        {
          "output_type": "execute_result",
          "data": {
            "text/plain": [
              "           Rate\n",
              "AED    3.934431\n",
              "AFN   86.238118\n",
              "ALL  107.872466\n",
              "AMD  413.137218\n",
              "ANG    1.929989"
            ],
            "text/html": [
              "\n",
              "  <div id=\"df-4177f29f-c020-4ce4-b057-8f09c3d63085\" class=\"colab-df-container\">\n",
              "    <div>\n",
              "<style scoped>\n",
              "    .dataframe tbody tr th:only-of-type {\n",
              "        vertical-align: middle;\n",
              "    }\n",
              "\n",
              "    .dataframe tbody tr th {\n",
              "        vertical-align: top;\n",
              "    }\n",
              "\n",
              "    .dataframe thead th {\n",
              "        text-align: right;\n",
              "    }\n",
              "</style>\n",
              "<table border=\"1\" class=\"dataframe\">\n",
              "  <thead>\n",
              "    <tr style=\"text-align: right;\">\n",
              "      <th></th>\n",
              "      <th>Rate</th>\n",
              "    </tr>\n",
              "  </thead>\n",
              "  <tbody>\n",
              "    <tr>\n",
              "      <th>AED</th>\n",
              "      <td>3.934431</td>\n",
              "    </tr>\n",
              "    <tr>\n",
              "      <th>AFN</th>\n",
              "      <td>86.238118</td>\n",
              "    </tr>\n",
              "    <tr>\n",
              "      <th>ALL</th>\n",
              "      <td>107.872466</td>\n",
              "    </tr>\n",
              "    <tr>\n",
              "      <th>AMD</th>\n",
              "      <td>413.137218</td>\n",
              "    </tr>\n",
              "    <tr>\n",
              "      <th>ANG</th>\n",
              "      <td>1.929989</td>\n",
              "    </tr>\n",
              "  </tbody>\n",
              "</table>\n",
              "</div>\n",
              "    <div class=\"colab-df-buttons\">\n",
              "\n",
              "  <div class=\"colab-df-container\">\n",
              "    <button class=\"colab-df-convert\" onclick=\"convertToInteractive('df-4177f29f-c020-4ce4-b057-8f09c3d63085')\"\n",
              "            title=\"Convert this dataframe to an interactive table.\"\n",
              "            style=\"display:none;\">\n",
              "\n",
              "  <svg xmlns=\"http://www.w3.org/2000/svg\" height=\"24px\" viewBox=\"0 -960 960 960\">\n",
              "    <path d=\"M120-120v-720h720v720H120Zm60-500h600v-160H180v160Zm220 220h160v-160H400v160Zm0 220h160v-160H400v160ZM180-400h160v-160H180v160Zm440 0h160v-160H620v160ZM180-180h160v-160H180v160Zm440 0h160v-160H620v160Z\"/>\n",
              "  </svg>\n",
              "    </button>\n",
              "\n",
              "  <style>\n",
              "    .colab-df-container {\n",
              "      display:flex;\n",
              "      gap: 12px;\n",
              "    }\n",
              "\n",
              "    .colab-df-convert {\n",
              "      background-color: #E8F0FE;\n",
              "      border: none;\n",
              "      border-radius: 50%;\n",
              "      cursor: pointer;\n",
              "      display: none;\n",
              "      fill: #1967D2;\n",
              "      height: 32px;\n",
              "      padding: 0 0 0 0;\n",
              "      width: 32px;\n",
              "    }\n",
              "\n",
              "    .colab-df-convert:hover {\n",
              "      background-color: #E2EBFA;\n",
              "      box-shadow: 0px 1px 2px rgba(60, 64, 67, 0.3), 0px 1px 3px 1px rgba(60, 64, 67, 0.15);\n",
              "      fill: #174EA6;\n",
              "    }\n",
              "\n",
              "    .colab-df-buttons div {\n",
              "      margin-bottom: 4px;\n",
              "    }\n",
              "\n",
              "    [theme=dark] .colab-df-convert {\n",
              "      background-color: #3B4455;\n",
              "      fill: #D2E3FC;\n",
              "    }\n",
              "\n",
              "    [theme=dark] .colab-df-convert:hover {\n",
              "      background-color: #434B5C;\n",
              "      box-shadow: 0px 1px 3px 1px rgba(0, 0, 0, 0.15);\n",
              "      filter: drop-shadow(0px 1px 2px rgba(0, 0, 0, 0.3));\n",
              "      fill: #FFFFFF;\n",
              "    }\n",
              "  </style>\n",
              "\n",
              "    <script>\n",
              "      const buttonEl =\n",
              "        document.querySelector('#df-4177f29f-c020-4ce4-b057-8f09c3d63085 button.colab-df-convert');\n",
              "      buttonEl.style.display =\n",
              "        google.colab.kernel.accessAllowed ? 'block' : 'none';\n",
              "\n",
              "      async function convertToInteractive(key) {\n",
              "        const element = document.querySelector('#df-4177f29f-c020-4ce4-b057-8f09c3d63085');\n",
              "        const dataTable =\n",
              "          await google.colab.kernel.invokeFunction('convertToInteractive',\n",
              "                                                    [key], {});\n",
              "        if (!dataTable) return;\n",
              "\n",
              "        const docLinkHtml = 'Like what you see? Visit the ' +\n",
              "          '<a target=\"_blank\" href=https://colab.research.google.com/notebooks/data_table.ipynb>data table notebook</a>'\n",
              "          + ' to learn more about interactive tables.';\n",
              "        element.innerHTML = '';\n",
              "        dataTable['output_type'] = 'display_data';\n",
              "        await google.colab.output.renderOutput(dataTable, element);\n",
              "        const docLink = document.createElement('div');\n",
              "        docLink.innerHTML = docLinkHtml;\n",
              "        element.appendChild(docLink);\n",
              "      }\n",
              "    </script>\n",
              "  </div>\n",
              "\n",
              "\n",
              "<div id=\"df-727a1d5a-c9d8-47da-bf20-63cb6e6257bd\">\n",
              "  <button class=\"colab-df-quickchart\" onclick=\"quickchart('df-727a1d5a-c9d8-47da-bf20-63cb6e6257bd')\"\n",
              "            title=\"Suggest charts.\"\n",
              "            style=\"display:none;\">\n",
              "\n",
              "<svg xmlns=\"http://www.w3.org/2000/svg\" height=\"24px\"viewBox=\"0 0 24 24\"\n",
              "     width=\"24px\">\n",
              "    <g>\n",
              "        <path d=\"M19 3H5c-1.1 0-2 .9-2 2v14c0 1.1.9 2 2 2h14c1.1 0 2-.9 2-2V5c0-1.1-.9-2-2-2zM9 17H7v-7h2v7zm4 0h-2V7h2v10zm4 0h-2v-4h2v4z\"/>\n",
              "    </g>\n",
              "</svg>\n",
              "  </button>\n",
              "\n",
              "<style>\n",
              "  .colab-df-quickchart {\n",
              "      --bg-color: #E8F0FE;\n",
              "      --fill-color: #1967D2;\n",
              "      --hover-bg-color: #E2EBFA;\n",
              "      --hover-fill-color: #174EA6;\n",
              "      --disabled-fill-color: #AAA;\n",
              "      --disabled-bg-color: #DDD;\n",
              "  }\n",
              "\n",
              "  [theme=dark] .colab-df-quickchart {\n",
              "      --bg-color: #3B4455;\n",
              "      --fill-color: #D2E3FC;\n",
              "      --hover-bg-color: #434B5C;\n",
              "      --hover-fill-color: #FFFFFF;\n",
              "      --disabled-bg-color: #3B4455;\n",
              "      --disabled-fill-color: #666;\n",
              "  }\n",
              "\n",
              "  .colab-df-quickchart {\n",
              "    background-color: var(--bg-color);\n",
              "    border: none;\n",
              "    border-radius: 50%;\n",
              "    cursor: pointer;\n",
              "    display: none;\n",
              "    fill: var(--fill-color);\n",
              "    height: 32px;\n",
              "    padding: 0;\n",
              "    width: 32px;\n",
              "  }\n",
              "\n",
              "  .colab-df-quickchart:hover {\n",
              "    background-color: var(--hover-bg-color);\n",
              "    box-shadow: 0 1px 2px rgba(60, 64, 67, 0.3), 0 1px 3px 1px rgba(60, 64, 67, 0.15);\n",
              "    fill: var(--button-hover-fill-color);\n",
              "  }\n",
              "\n",
              "  .colab-df-quickchart-complete:disabled,\n",
              "  .colab-df-quickchart-complete:disabled:hover {\n",
              "    background-color: var(--disabled-bg-color);\n",
              "    fill: var(--disabled-fill-color);\n",
              "    box-shadow: none;\n",
              "  }\n",
              "\n",
              "  .colab-df-spinner {\n",
              "    border: 2px solid var(--fill-color);\n",
              "    border-color: transparent;\n",
              "    border-bottom-color: var(--fill-color);\n",
              "    animation:\n",
              "      spin 1s steps(1) infinite;\n",
              "  }\n",
              "\n",
              "  @keyframes spin {\n",
              "    0% {\n",
              "      border-color: transparent;\n",
              "      border-bottom-color: var(--fill-color);\n",
              "      border-left-color: var(--fill-color);\n",
              "    }\n",
              "    20% {\n",
              "      border-color: transparent;\n",
              "      border-left-color: var(--fill-color);\n",
              "      border-top-color: var(--fill-color);\n",
              "    }\n",
              "    30% {\n",
              "      border-color: transparent;\n",
              "      border-left-color: var(--fill-color);\n",
              "      border-top-color: var(--fill-color);\n",
              "      border-right-color: var(--fill-color);\n",
              "    }\n",
              "    40% {\n",
              "      border-color: transparent;\n",
              "      border-right-color: var(--fill-color);\n",
              "      border-top-color: var(--fill-color);\n",
              "    }\n",
              "    60% {\n",
              "      border-color: transparent;\n",
              "      border-right-color: var(--fill-color);\n",
              "    }\n",
              "    80% {\n",
              "      border-color: transparent;\n",
              "      border-right-color: var(--fill-color);\n",
              "      border-bottom-color: var(--fill-color);\n",
              "    }\n",
              "    90% {\n",
              "      border-color: transparent;\n",
              "      border-bottom-color: var(--fill-color);\n",
              "    }\n",
              "  }\n",
              "</style>\n",
              "\n",
              "  <script>\n",
              "    async function quickchart(key) {\n",
              "      const quickchartButtonEl =\n",
              "        document.querySelector('#' + key + ' button');\n",
              "      quickchartButtonEl.disabled = true;  // To prevent multiple clicks.\n",
              "      quickchartButtonEl.classList.add('colab-df-spinner');\n",
              "      try {\n",
              "        const charts = await google.colab.kernel.invokeFunction(\n",
              "            'suggestCharts', [key], {});\n",
              "      } catch (error) {\n",
              "        console.error('Error during call to suggestCharts:', error);\n",
              "      }\n",
              "      quickchartButtonEl.classList.remove('colab-df-spinner');\n",
              "      quickchartButtonEl.classList.add('colab-df-quickchart-complete');\n",
              "    }\n",
              "    (() => {\n",
              "      let quickchartButtonEl =\n",
              "        document.querySelector('#df-727a1d5a-c9d8-47da-bf20-63cb6e6257bd button');\n",
              "      quickchartButtonEl.style.display =\n",
              "        google.colab.kernel.accessAllowed ? 'block' : 'none';\n",
              "    })();\n",
              "  </script>\n",
              "</div>\n",
              "    </div>\n",
              "  </div>\n"
            ]
          },
          "metadata": {},
          "execution_count": 32
        }
      ]
    },
    {
      "cell_type": "markdown",
      "metadata": {
        "id": "dc1b592e-408b-4dcb-921c-be809646bec6"
      },
      "source": [
        "### Load the Data\n",
        "\n",
        "Using the dataframe save it as a CSV names `exchange_rates_1.csv`.\n"
      ]
    },
    {
      "cell_type": "code",
      "source": [
        "rates_df.to_csv('exchange_rates_1.csv')"
      ],
      "metadata": {
        "id": "oB5o-6BuWgtt"
      },
      "execution_count": null,
      "outputs": []
    },
    {
      "cell_type": "markdown",
      "metadata": {
        "id": "f35b63cb-6c94-4163-9c5a-9d07c34ad6df"
      },
      "source": [
        "Your CSV should be in this format with more currencies\n",
        "\n",
        "| | Rates |\n",
        "| ------- | ------- |\n",
        "|  AED| 4.398618    |\n",
        "|  AFN| 92.917693   |  \n",
        "|  ALL| 123.099093  |\n",
        "|  AMD| 621.935674  |\n",
        "|  ANG| 2.149648    |\n"
      ]
    },
    {
      "cell_type": "markdown",
      "metadata": {
        "id": "01755bda-3044-4f3c-8b5e-970498930c2d"
      },
      "source": [
        "## Authors\n"
      ]
    },
    {
      "cell_type": "markdown",
      "metadata": {
        "id": "a7ebcb75-e4cf-4e17-92ee-35a73b4c5661"
      },
      "source": [
        "Ramesh Sannareddy, Joseph Santarcangelo and Azim Hirjani\n"
      ]
    },
    {
      "cell_type": "markdown",
      "metadata": {
        "id": "59d33479-ecc7-4a7a-b196-9356acc19ce9"
      },
      "source": [
        "### Other Contributors\n"
      ]
    },
    {
      "cell_type": "markdown",
      "metadata": {
        "id": "53ed2b55-fe5b-4097-ad01-c144ab7bd983"
      },
      "source": [
        "Rav Ahuja\n"
      ]
    },
    {
      "cell_type": "markdown",
      "metadata": {
        "id": "c3d59879-ebc6-4723-b3d9-312592af1bad"
      },
      "source": [
        "## Change Log\n"
      ]
    },
    {
      "cell_type": "markdown",
      "metadata": {
        "id": "2601aa62-e7c4-49d2-a338-ee06ba847ae6"
      },
      "source": [
        "| Date (YYYY-MM-DD) | Version | Changed By        | Change Description                 |\n",
        "| ----------------- | ------- | ----------------- | ---------------------------------- |\n",
        "| 2022-05-06        | 0.3     | Malika            | Updated instructions to get the API and the url|\n",
        "| 2021-04-15        | 0.2     | Malika            | Updated the lab from USD to EUR    |\n",
        "| 2020-11-25        | 0.1     | Ramesh Sannareddy | Created initial version of the lab |\n"
      ]
    },
    {
      "cell_type": "markdown",
      "metadata": {
        "id": "3f42ce3f-bad1-43a3-a466-743eba00103a"
      },
      "source": [
        " Copyright © 2020 IBM Corporation. This notebook and its source code are released under the terms of the [MIT License](https://cognitiveclass.ai/mit-license?utm_medium=Exinfluencer&utm_source=Exinfluencer&utm_content=000026UJ&utm_term=10006555&utm_id=NA-SkillsNetwork-Channel-SkillsNetworkCoursesIBMDeveloperSkillsNetworkPY0221ENSkillsNetwork899-2023-01-01&cm_mmc=Email_Newsletter-_-Developer_Ed%2BTech-_-WW_WW-_-SkillsNetwork-Courses-IBM-DA0321EN-SkillsNetwork-21426264&cm_mmca1=000026UJ&cm_mmca2=10006555&cm_mmca3=M12345678&cvosrc=email.Newsletter.M12345678&cvo_campaign=000026UJ).\n"
      ]
    }
  ],
  "metadata": {
    "kernelspec": {
      "display_name": "Python 3",
      "name": "python3"
    },
    "language_info": {
      "name": "python"
    },
    "colab": {
      "provenance": [],
      "include_colab_link": true
    }
  },
  "nbformat": 4,
  "nbformat_minor": 0
}